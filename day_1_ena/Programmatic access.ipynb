{
 "cells": [
  {
   "cell_type": "markdown",
   "metadata": {},
   "source": [
    "# ENA programmatic access\n",
    "\n",
    "In this short example we will see how to connect to ENA using the available REST API with the **requests** Python package. Since the response will be in XML format we will read it using a Python XML parser (package **xmltodict**)"
   ]
  },
  {
   "cell_type": "markdown",
   "metadata": {},
   "source": [
    "Import packages and define the URL with the study id as parameter"
   ]
  },
  {
   "cell_type": "code",
   "execution_count": 10,
   "metadata": {},
   "outputs": [],
   "source": [
    "import requests\n",
    "import xmltodict\n",
    "import json\n",
    "\n",
    "base_url = 'https://www.ebi.ac.uk/ena/data/view/{id}&display=xml'\n",
    "\n",
    "url = base_url.format(id='ERP001030')"
   ]
  },
  {
   "cell_type": "markdown",
   "metadata": {},
   "source": [
    "Call the URL and get the response"
   ]
  },
  {
   "cell_type": "code",
   "execution_count": 11,
   "metadata": {},
   "outputs": [],
   "source": [
    "response = requests.get(url)"
   ]
  },
  {
   "cell_type": "markdown",
   "metadata": {},
   "source": [
    "Convert the XML response to a Python OrderedDictionary"
   ]
  },
  {
   "cell_type": "code",
   "execution_count": 12,
   "metadata": {},
   "outputs": [
    {
     "data": {
      "text/plain": [
       "OrderedDict([('ROOT',\n",
       "              OrderedDict([('@request', 'ERP001030&display=xml'),\n",
       "                           ('STUDY',\n",
       "                            OrderedDict([('@accession', 'ERP001030'),\n",
       "                                         ('@alias', 'E-MTAB-861'),\n",
       "                                         ('@broker_name', 'ArrayExpress'),\n",
       "                                         ('@center_name', 'GATC Biotech AG'),\n",
       "                                         ('IDENTIFIERS',\n",
       "                                          OrderedDict([('PRIMARY_ID',\n",
       "                                                        'ERP001030'),\n",
       "                                                       ('SECONDARY_ID',\n",
       "                                                        'PRJEB2772'),\n",
       "                                                       ('SUBMITTER_ID',\n",
       "                                                        OrderedDict([('@namespace',\n",
       "                                                                      'GATC Biotech AG'),\n",
       "                                                                     ('#text',\n",
       "                                                                      'E-MTAB-861')]))])),\n",
       "                                         ('DESCRIPTOR',\n",
       "                                          OrderedDict([('STUDY_TITLE',\n",
       "                                                        'wheat starchy endosperm RNA-Seq'),\n",
       "                                                       ('STUDY_TYPE',\n",
       "                                                        OrderedDict([('@existing_study_type',\n",
       "                                                                      'Other')])),\n",
       "                                                       ('CENTER_PROJECT_NAME',\n",
       "                                                        'wheat starchy endosperm RNA-Seq'),\n",
       "                                                       ('STUDY_DESCRIPTION',\n",
       "                                                        'Transcriptome of starchy endosperm of hexaploid wheat var. Cadenza at 5 stages during grain-fill. This provides a reference set of all genes which are expressed in this single cell type during development which is of huge importance for human nutrition and for industrial uses of wheat grain. Here we focus on genes in glycosyl transferase and glycosyl hydrolase families which are responsible for the non-starch polysaccharide composition of wheat flour.')])),\n",
       "                                         ('STUDY_LINKS',\n",
       "                                          OrderedDict([('STUDY_LINK',\n",
       "                                                        [OrderedDict([('URL_LINK',\n",
       "                                                                       OrderedDict([('LABEL',\n",
       "                                                                                     'E-MTAB-861 in ArrayExpress'),\n",
       "                                                                                    ('URL',\n",
       "                                                                                     'http://www.ebi.ac.uk/arrayexpress/experiments/E-MTAB-861')]))]),\n",
       "                                                         OrderedDict([('XREF_LINK',\n",
       "                                                                       OrderedDict([('DB',\n",
       "                                                                                     'ENA-SAMPLE'),\n",
       "                                                                                    ('ID',\n",
       "                                                                                     'ERS074999-ERS075003')]))]),\n",
       "                                                         OrderedDict([('XREF_LINK',\n",
       "                                                                       OrderedDict([('DB',\n",
       "                                                                                     'ENA-EXPERIMENT'),\n",
       "                                                                                    ('ID',\n",
       "                                                                                     'ERX033523-ERX033527')]))]),\n",
       "                                                         OrderedDict([('XREF_LINK',\n",
       "                                                                       OrderedDict([('DB',\n",
       "                                                                                     'ENA-RUN'),\n",
       "                                                                                    ('ID',\n",
       "                                                                                     'ERR056477-ERR056481')]))]),\n",
       "                                                         OrderedDict([('XREF_LINK',\n",
       "                                                                       OrderedDict([('DB',\n",
       "                                                                                     'ENA-SUBMISSION'),\n",
       "                                                                                    ('ID',\n",
       "                                                                                     'ERA070843')]))]),\n",
       "                                                         OrderedDict([('XREF_LINK',\n",
       "                                                                       OrderedDict([('DB',\n",
       "                                                                                     'ENA-FASTQ-FILES'),\n",
       "                                                                                    ('ID',\n",
       "                                                                                     'http://www.ebi.ac.uk/ena/data/warehouse/filereport?accession=ERP001030&result=read_run&fields=run_accession,fastq_ftp,fastq_md5,fastq_bytes')]))]),\n",
       "                                                         OrderedDict([('XREF_LINK',\n",
       "                                                                       OrderedDict([('DB',\n",
       "                                                                                     'ENA-SUBMITTED-FILES'),\n",
       "                                                                                    ('ID',\n",
       "                                                                                     'http://www.ebi.ac.uk/ena/data/warehouse/filereport?accession=ERP001030&result=read_run&fields=run_accession,submitted_ftp,submitted_md5,submitted_bytes,submitted_format')]))])])])),\n",
       "                                         ('STUDY_ATTRIBUTES',\n",
       "                                          OrderedDict([('STUDY_ATTRIBUTE',\n",
       "                                                        [OrderedDict([('TAG',\n",
       "                                                                       'ENA-SPOT-COUNT'),\n",
       "                                                                      ('VALUE',\n",
       "                                                                       '73676')]),\n",
       "                                                         OrderedDict([('TAG',\n",
       "                                                                       'ENA-BASE-COUNT'),\n",
       "                                                                      ('VALUE',\n",
       "                                                                       '5071789')]),\n",
       "                                                         OrderedDict([('TAG',\n",
       "                                                                       'ENA-FIRST-PUBLIC'),\n",
       "                                                                      ('VALUE',\n",
       "                                                                       '2011-11-26')]),\n",
       "                                                         OrderedDict([('TAG',\n",
       "                                                                       'ENA-LAST-UPDATE'),\n",
       "                                                                      ('VALUE',\n",
       "                                                                       '2013-07-19')]),\n",
       "                                                         OrderedDict([('TAG',\n",
       "                                                                       'ArrayExpress'),\n",
       "                                                                      ('VALUE',\n",
       "                                                                       'E-MTAB-861')])])]))]))]))])"
      ]
     },
     "execution_count": 12,
     "metadata": {},
     "output_type": "execute_result"
    }
   ],
   "source": [
    "study = xmltodict.parse(response.content)\n",
    "study"
   ]
  },
  {
   "cell_type": "markdown",
   "metadata": {},
   "source": [
    "Loop through the OrderedDictionary object to get out the Sample IDS"
   ]
  },
  {
   "cell_type": "code",
   "execution_count": 13,
   "metadata": {},
   "outputs": [],
   "source": [
    "for l in study['ROOT']['STUDY']['STUDY_LINKS']['STUDY_LINK']:\n",
    "    if l.get('XREF_LINK', {}).get('DB', {}) == 'ENA-SAMPLE':\n",
    "        sample_range = l['XREF_LINK']['ID']"
   ]
  },
  {
   "cell_type": "code",
   "execution_count": 14,
   "metadata": {},
   "outputs": [
    {
     "data": {
      "text/plain": [
       "'ERS074999-ERS075003'"
      ]
     },
     "execution_count": 14,
     "metadata": {},
     "output_type": "execute_result"
    }
   ],
   "source": [
    "sample_range"
   ]
  },
  {
   "cell_type": "markdown",
   "metadata": {},
   "source": [
    "* Call the ENA API with the sample IDS\n",
    "* Collect the response and convert the XML to OrderedDictionary object\n",
    "* Loop through the OrderedDictionary and print out the Sample accession number and the sample title"
   ]
  },
  {
   "cell_type": "code",
   "execution_count": 6,
   "metadata": {},
   "outputs": [
    {
     "name": "stdout",
     "output_type": "stream",
     "text": [
      "ERS074999 Central starchy endosperm 4\n",
      "ERS075000 Central starchy endosperm 2\n",
      "ERS075001 Central starchy endosperm 5\n",
      "ERS075002 Central starchy endosperm 1\n",
      "ERS075003 Central starchy endosperm 3\n"
     ]
    }
   ],
   "source": [
    "url = base_url.format(id=sample_range)\n",
    "\n",
    "response = requests.get(url)\n",
    "samples = xmltodict.parse(response.content)\n",
    "for s in samples['ROOT']['SAMPLE']:\n",
    "    print(s['@accession'], s['TITLE'])"
   ]
  }
 ],
 "metadata": {
  "kernelspec": {
   "display_name": "Python 3",
   "language": "python",
   "name": "python3"
  },
  "language_info": {
   "codemirror_mode": {
    "name": "ipython",
    "version": 3
   },
   "file_extension": ".py",
   "mimetype": "text/x-python",
   "name": "python",
   "nbconvert_exporter": "python",
   "pygments_lexer": "ipython3",
   "version": "3.8.0"
  }
 },
 "nbformat": 4,
 "nbformat_minor": 4
}
