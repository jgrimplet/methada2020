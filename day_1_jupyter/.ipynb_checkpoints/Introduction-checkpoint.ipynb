{
 "cells": [
  {
   "cell_type": "markdown",
   "metadata": {},
   "source": [
    "# JUPYTER NOTEBOOK: INTRODUCTION"
   ]
  },
  {
   "cell_type": "markdown",
   "metadata": {},
   "source": [
    "![Jupyter HUB](italy_trentino.png)"
   ]
  },
  {
   "cell_type": "markdown",
   "metadata": {},
   "source": [
    "A \"Jupyter notebook\" denote documents that contain both **code** and **rich text elements**, such as figures, links, equations, etc.\n",
    "\n",
    "These documents are the ideal place to bring together an **analysis** description, since they contain:\n",
    "* description;\n",
    "* code (to be executed);\n",
    "* results;\n",
    "\n",
    "*Let's see a quick example*"
   ]
  },
  {
   "cell_type": "markdown",
   "metadata": {},
   "source": [
    "### The Normal Distribution\n",
    "\n",
    "$$\n",
    "f(x) = \\frac{1}{\\sigma \\sqrt{ 2 \\pi}} e^{-\\frac{1}{2}(\\frac{x - \\mu}{\\sigma})^2}\n",
    "$$"
   ]
  },
  {
   "cell_type": "code",
   "execution_count": 1,
   "metadata": {},
   "outputs": [
    {
     "data": {
      "image/png": "[encoded data removed]",
      "text/plain": [
       "<Figure size 648x432 with 1 Axes>"
      ]
     },
     "metadata": {
      "needs_background": "light"
     },
     "output_type": "display_data"
    }
   ],
   "source": [
    "import numpy as np\n",
    "import matplotlib.pyplot as plt\n",
    "from scipy.stats import norm\n",
    "import seaborn as sns\n",
    "sns.set(color_codes=True)\n",
    "%matplotlib inline\n",
    "\n",
    "mu = 0\n",
    "sigma = 1\n",
    "\n",
    "x = np.linspace(mu - 5*sigma, mu + 5*sigma, 100)\n",
    "y = norm.pdf(x, mu, sigma)\n",
    "\n",
    "fig, ax = plt.subplots(figsize=(9,6))\n",
    "plt.style.use('fivethirtyeight')\n",
    "ax.plot(x, y, alpha=0.8)\n",
    "ax.set_xlim([-4,4])\n",
    "ax.set_yticklabels([])\n",
    "_ = ax.set_title('Normal Gaussian Curve')"
   ]
  },
  {
   "cell_type": "markdown",
   "metadata": {},
   "source": [
    "## A little bit of background\n",
    "\n",
    "* In 2001 Fernando Pérez starts developing IPython (interactive Python)\n",
    "* The concept of a notebook, which contains ordinary text and calculation and/or graphics, is **not new**\n",
    "* The developer of Jupyter Notebook was an avid users of the **Maple** worksheets and **Mathematica** notebooks(created in 1988)\n",
    "* The first prototype of IPython notebook was released in 2011\n",
    "* In 2014, Project Jupyter started as a spin-off project from IPython. IPython is now the name of the Python backend, which is also known as the **kernel**"
   ]
  },
  {
   "cell_type": "markdown",
   "metadata": {},
   "source": [
    "## Jupyter HUB\n",
    "\n",
    "To recap:\n",
    "\n",
    "* a Jupyter Notebook App is a **web application** for running and sharing notebook documents.\n",
    "* a notebook document can contain **code** and other elements that are executable via a **kernel**. It can also contain rich text and **figures**.\n",
    "* a kernel executes the code in a notebook document. A kernel can live within **environment** (e.g. a conda environment)\n",
    "\n",
    "*So what is a Jupyter HUB?*\n",
    "\n",
    "![Jupyter HUB](jupyterhub_thing_explain.jpg)\n",
    "![Jupyter HUB](geohackweek_aws_setup.png)"
   ]
  },
  {
   "cell_type": "markdown",
   "metadata": {},
   "source": [
    "## Use Jupyter Notebook on your own"
   ]
  },
  {
   "cell_type": "markdown",
   "metadata": {},
   "source": [
    "#### Download and install Anaconda"
   ]
  },
  {
   "cell_type": "markdown",
   "metadata": {},
   "source": [
    "https://docs.conda.io/projects/conda/en/latest/user-guide/install/linux.html"
   ]
  },
  {
   "cell_type": "markdown",
   "metadata": {},
   "source": [
    "```console\n",
    "user@methada2020:~$ bash Anaconda-latest-Linux-x86_64.sh\n",
    "```"
   ]
  },
  {
   "cell_type": "markdown",
   "metadata": {},
   "source": [
    "#### Create new environment named **myenv**"
   ]
  },
  {
   "cell_type": "markdown",
   "metadata": {},
   "source": [
    "```console\n",
    "user@methada2020:~$ conda create -n myenv python=3.6\n",
    "```"
   ]
  },
  {
   "cell_type": "markdown",
   "metadata": {},
   "source": [
    "#### Activate environment **myenv**"
   ]
  },
  {
   "cell_type": "markdown",
   "metadata": {},
   "source": [
    "```console\n",
    "user@methada2020:~$ conda activate myenv\n",
    "```"
   ]
  },
  {
   "cell_type": "markdown",
   "metadata": {},
   "source": [
    "#### Install Jupyter Lab"
   ]
  },
  {
   "cell_type": "markdown",
   "metadata": {},
   "source": [
    "```console\n",
    "(myenv)user@methada2020:~$ conda install -c conda-forge jupyterlab\n",
    "```"
   ]
  },
  {
   "cell_type": "markdown",
   "metadata": {},
   "source": [
    "```console\n",
    "(myenv)user@methada2020:~$ conda install -c anaconda numpy scipy matplotlib\n",
    "```"
   ]
  },
  {
   "cell_type": "markdown",
   "metadata": {},
   "source": [
    "#### Show installed packages (and version)"
   ]
  },
  {
   "cell_type": "markdown",
   "metadata": {},
   "source": [
    "```console\n",
    "(myenv)user@methada2020:~$ conda env export\n",
    "```"
   ]
  },
  {
   "cell_type": "markdown",
   "metadata": {},
   "source": [
    "#### Run Jupyter Lab"
   ]
  },
  {
   "cell_type": "markdown",
   "metadata": {},
   "source": [
    "```console\n",
    "(myenv)user@methada2020:~$ jupyter lab\n",
    "```"
   ]
  },
  {
   "cell_type": "markdown",
   "metadata": {},
   "source": [
    "#### Deactivate environment"
   ]
  },
  {
   "cell_type": "markdown",
   "metadata": {},
   "source": [
    "```console\n",
    "(myenv)user@methada2020:~$ conda deactivate\n",
    "```"
   ]
  },
  {
   "cell_type": "markdown",
   "metadata": {},
   "source": [
    "## Training school setup"
   ]
  },
  {
   "cell_type": "markdown",
   "metadata": {},
   "source": [
    "#### Jupyter HUB server\n",
    "\n",
    "```console\n",
    "http://methada2020.uv.es:8888\n",
    "```\n",
    "\n",
    "#### VESPUCCI \n",
    "\n",
    "```console\n",
    "http://methada2020.uv.es:5555/graphql\n",
    "```\n",
    "\n",
    "#### Documentation\n",
    "\n",
    "```console\n",
    "https://github.com/jtomasmatus/methada2020\n",
    "```"
   ]
  },
  {
   "cell_type": "markdown",
   "metadata": {},
   "source": [
    "## Modify your password"
   ]
  },
  {
   "cell_type": "markdown",
   "metadata": {},
   "source": [
    "* Login with the given username and password\n",
    "\n",
    "* Start a new Terminal Session\n",
    "\n",
    "* Type into the terminal the following command to change password\n",
    "  ```console\n",
    "  userXX@blablabla:~$ passwd\n",
    "  \n",
    "  userXX@blablabla:~$ Changing password for userXX.\n",
    "  \n",
    "  userXX@blablabla:~$ Current password: \n",
    "  \n",
    "  userXX@blablabla:~$ New password: \n",
    "  \n",
    "  userXX@blablabla:~$ Retype new password: \n",
    "  \n",
    "  userXX@blablabla:~$ passwd: password updated successfully\n",
    "  ```"
   ]
  }
 ],
 "metadata": {
  "kernelspec": {
   "display_name": "Python 3",
   "language": "python",
   "name": "python3"
  },
  "language_info": {
   "codemirror_mode": {
    "name": "ipython",
    "version": 3
   },
   "file_extension": ".py",
   "mimetype": "text/x-python",
   "name": "python",
   "nbconvert_exporter": "python",
   "pygments_lexer": "ipython3",
   "version": "3.8.0"
  }
 },
 "nbformat": 4,
 "nbformat_minor": 4
}
